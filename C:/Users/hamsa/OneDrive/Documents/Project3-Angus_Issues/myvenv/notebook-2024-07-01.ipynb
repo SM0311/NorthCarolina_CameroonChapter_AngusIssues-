{
 "cells": [
  {
   "cell_type": "code",
   "execution_count": 1,
   "id": "29d0a13e",
   "metadata": {},
   "outputs": [],
   "source": [
    "from dagshub.notebook import save_notebook\n",
    "\n",
    "save_notebook(repo=\"Omdena/NorthCarolina_CameroonChapter_AngusIssues\", path=\"C:\\Users\\hamsa\\OneDrive\\Documents\\Project3-Angus_Issues\\myvenv\")"
   ]
  },
  {
   "cell_type": "code",
   "execution_count": 2,
   "id": "3b864d4a",
   "metadata": {},
   "outputs": [],
   "source": [
    "from dagshub.notebook import save_notebook\n",
    "\n",
    "save_notebook(repo=\"Omdena/NorthCarolina_CameroonChapter_AngusIssues\", path=\"C:\\\\Users\\\\hamsa\\\\OneDrive\\\\Documents\\\\Project3-Angus_Issues\\\\myvenv\")"
   ]
  },
  {
   "cell_type": "code",
   "execution_count": 3,
   "id": "6a772275",
   "metadata": {},
   "outputs": [],
   "source": [
    "# Install the DagsHub python client\n",
    "pip install -q dagshub"
   ]
  },
  {
   "cell_type": "code",
   "execution_count": 4,
   "id": "792069ca",
   "metadata": {},
   "outputs": [],
   "source": [
    "# Install the DagsHub python client\n",
    "! pip install -q dagshub"
   ]
  },
  {
   "cell_type": "code",
   "execution_count": 5,
   "id": "1b02faf2",
   "metadata": {},
   "outputs": [],
   "source": [
    "from dagshub.notebook import save_notebook\n",
    "\n",
    "save_notebook(repo=\"Omdena/NorthCarolina_CameroonChapter_AngusIssues\", path=\"C:\\\\Users\\\\hamsa\\\\OneDrive\\\\Documents\\\\Project3-Angus_Issues\\\\myvenv\")"
   ]
  },
  {
   "cell_type": "code",
   "execution_count": 6,
   "id": "6fb66692",
   "metadata": {},
   "outputs": [],
   "source": [
    "! pip install nbformat"
   ]
  },
  {
   "cell_type": "code",
   "execution_count": 7,
   "id": "4d6cf74f",
   "metadata": {},
   "outputs": [],
   "source": [
    "from dagshub.notebook import save_notebook\n",
    "\n",
    "save_notebook(repo=\"Omdena/NorthCarolina_CameroonChapter_AngusIssues\", path=\"C:\\\\Users\\\\hamsa\\\\OneDrive\\\\Documents\\\\Project3-Angus_Issues\\\\myvenv\")"
   ]
  },
  {
   "cell_type": "code",
   "execution_count": 8,
   "id": "12a68e83",
   "metadata": {},
   "outputs": [],
   "source": [
    "from dagshub.notebook import save_notebook\n",
    "\n",
    "save_notebook(repo=\"Omdena/NorthCarolina_CameroonChapter_AngusIssues\", path=\"C:\\Users\\hamsa\\OneDrive\\Documents\\Project3-Angus_Issues\\myvenv\\NorthCarolina_CameroonChapter_AngusIssues\")"
   ]
  },
  {
   "cell_type": "code",
   "execution_count": 9,
   "id": "1f1cb051",
   "metadata": {},
   "outputs": [],
   "source": [
    "from dagshub.notebook import save_notebook\n",
    "\n",
    "save_notebook(repo=\"Omdena/NorthCarolina_CameroonChapter_AngusIssues\", path=\"C:\\\\Users\\\\hamsa\\\\OneDrive\\\\Documents\\\\Project3-Angus_Issues\\\\myvenv\\\\NorthCarolina_CameroonChapter_AngusIssues\")"
   ]
  }
 ],
 "metadata": {},
 "nbformat": 4,
 "nbformat_minor": 5
}
