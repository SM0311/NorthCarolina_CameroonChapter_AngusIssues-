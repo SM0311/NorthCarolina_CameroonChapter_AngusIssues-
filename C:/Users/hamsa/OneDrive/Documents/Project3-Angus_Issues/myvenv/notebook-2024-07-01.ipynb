{
 "cells": [
  {
   "cell_type": "code",
   "execution_count": 1,
   "id": "0ae4f9fe",
   "metadata": {},
   "outputs": [],
   "source": [
    "from dagshub.notebook import save_notebook\n",
    "\n",
    "save_notebook(repo=\"Omdena/NorthCarolina_CameroonChapter_AngusIssues\", path=\"C:\\Users\\hamsa\\OneDrive\\Documents\\Project3-Angus_Issues\\myvenv\")"
   ]
  },
  {
   "cell_type": "code",
   "execution_count": 2,
   "id": "ddb4bcda",
   "metadata": {},
   "outputs": [],
   "source": [
    "from dagshub.notebook import save_notebook\n",
    "\n",
    "save_notebook(repo=\"Omdena/NorthCarolina_CameroonChapter_AngusIssues\", path=\"C:\\\\Users\\\\hamsa\\\\OneDrive\\\\Documents\\\\Project3-Angus_Issues\\\\myvenv\")"
   ]
  },
  {
   "cell_type": "code",
   "execution_count": 3,
   "id": "98771754",
   "metadata": {},
   "outputs": [],
   "source": [
    "# Install the DagsHub python client\n",
    "pip install -q dagshub"
   ]
  },
  {
   "cell_type": "code",
   "execution_count": 4,
   "id": "f0f2226c",
   "metadata": {},
   "outputs": [],
   "source": [
    "# Install the DagsHub python client\n",
    "! pip install -q dagshub"
   ]
  },
  {
   "cell_type": "code",
   "execution_count": 5,
   "id": "e2107cce",
   "metadata": {},
   "outputs": [],
   "source": [
    "from dagshub.notebook import save_notebook\n",
    "\n",
    "save_notebook(repo=\"Omdena/NorthCarolina_CameroonChapter_AngusIssues\", path=\"C:\\\\Users\\\\hamsa\\\\OneDrive\\\\Documents\\\\Project3-Angus_Issues\\\\myvenv\")"
   ]
  },
  {
   "cell_type": "code",
   "execution_count": 6,
   "id": "0096bb16",
   "metadata": {},
   "outputs": [],
   "source": [
    "! pip install nbformat"
   ]
  },
  {
   "cell_type": "code",
   "execution_count": 7,
   "id": "0b18bdf3",
   "metadata": {},
   "outputs": [],
   "source": [
    "from dagshub.notebook import save_notebook\n",
    "\n",
    "save_notebook(repo=\"Omdena/NorthCarolina_CameroonChapter_AngusIssues\", path=\"C:\\\\Users\\\\hamsa\\\\OneDrive\\\\Documents\\\\Project3-Angus_Issues\\\\myvenv\")"
   ]
  },
  {
   "cell_type": "code",
   "execution_count": 8,
   "id": "3d06ac02",
   "metadata": {},
   "outputs": [],
   "source": [
    "from dagshub.notebook import save_notebook\n",
    "\n",
    "save_notebook(repo=\"Omdena/NorthCarolina_CameroonChapter_AngusIssues\", path=\"C:\\Users\\hamsa\\OneDrive\\Documents\\Project3-Angus_Issues\\myvenv\\NorthCarolina_CameroonChapter_AngusIssues\")"
   ]
  },
  {
   "cell_type": "code",
   "execution_count": 9,
   "id": "92d0d34e",
   "metadata": {},
   "outputs": [],
   "source": [
    "from dagshub.notebook import save_notebook\n",
    "\n",
    "save_notebook(repo=\"Omdena/NorthCarolina_CameroonChapter_AngusIssues\", path=\"C:\\\\Users\\\\hamsa\\\\OneDrive\\\\Documents\\\\Project3-Angus_Issues\\\\myvenv\\\\NorthCarolina_CameroonChapter_AngusIssues\")"
   ]
  },
  {
   "cell_type": "code",
   "execution_count": 10,
   "id": "5c3981d5",
   "metadata": {},
   "outputs": [],
   "source": [
    "from dagshub.notebook import save_notebook\n",
    "\n",
    "save_notebook(repo=\"Omdena/NorthCarolina_CameroonChapter_AngusIssues\", path=\"C:\\\\Users\\\\hamsa\\\\OneDrive\\\\Documents\\\\Project3-Angus_Issues\\\\myvenv\")"
   ]
  }
 ],
 "metadata": {},
 "nbformat": 4,
 "nbformat_minor": 5
}
