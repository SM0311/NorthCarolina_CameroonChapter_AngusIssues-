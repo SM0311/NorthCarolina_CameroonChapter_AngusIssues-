{
 "cells": [
  {
   "cell_type": "code",
   "execution_count": 1,
   "id": "02899f5a",
   "metadata": {},
   "outputs": [],
   "source": [
    "from dagshub.notebook import save_notebook\n",
    "\n",
    "save_notebook(repo=\"Omdena/NorthCarolina_CameroonChapter_AngusIssues\", path=\"C:\\Users\\hamsa\\OneDrive\\Documents\\Project3-Angus_Issues\\myvenv\")"
   ]
  },
  {
   "cell_type": "code",
   "execution_count": 2,
   "id": "18a96238",
   "metadata": {},
   "outputs": [],
   "source": [
    "from dagshub.notebook import save_notebook\n",
    "\n",
    "save_notebook(repo=\"Omdena/NorthCarolina_CameroonChapter_AngusIssues\", path=\"C:\\\\Users\\\\hamsa\\\\OneDrive\\\\Documents\\\\Project3-Angus_Issues\\\\myvenv\")"
   ]
  },
  {
   "cell_type": "code",
   "execution_count": 3,
   "id": "1cc2da67",
   "metadata": {},
   "outputs": [],
   "source": [
    "# Install the DagsHub python client\n",
    "pip install -q dagshub"
   ]
  },
  {
   "cell_type": "code",
   "execution_count": 4,
   "id": "efd23c97",
   "metadata": {},
   "outputs": [],
   "source": [
    "# Install the DagsHub python client\n",
    "! pip install -q dagshub"
   ]
  },
  {
   "cell_type": "code",
   "execution_count": 5,
   "id": "c8e1e968",
   "metadata": {},
   "outputs": [],
   "source": [
    "from dagshub.notebook import save_notebook\n",
    "\n",
    "save_notebook(repo=\"Omdena/NorthCarolina_CameroonChapter_AngusIssues\", path=\"C:\\\\Users\\\\hamsa\\\\OneDrive\\\\Documents\\\\Project3-Angus_Issues\\\\myvenv\")"
   ]
  },
  {
   "cell_type": "code",
   "execution_count": 6,
   "id": "417062b9",
   "metadata": {},
   "outputs": [],
   "source": [
    "! pip install nbformat"
   ]
  }
 ],
 "metadata": {},
 "nbformat": 4,
 "nbformat_minor": 5
}
