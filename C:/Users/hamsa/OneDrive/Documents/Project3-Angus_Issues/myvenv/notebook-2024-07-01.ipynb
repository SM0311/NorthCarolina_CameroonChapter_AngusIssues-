{
 "cells": [
  {
   "cell_type": "code",
   "execution_count": 1,
   "id": "c5c50e62",
   "metadata": {},
   "outputs": [],
   "source": [
    "from dagshub.notebook import save_notebook\n",
    "\n",
    "save_notebook(repo=\"Omdena/NorthCarolina_CameroonChapter_AngusIssues\", path=\"C:\\Users\\hamsa\\OneDrive\\Documents\\Project3-Angus_Issues\\myvenv\")"
   ]
  },
  {
   "cell_type": "code",
   "execution_count": 2,
   "id": "80d8aa68",
   "metadata": {},
   "outputs": [],
   "source": [
    "from dagshub.notebook import save_notebook\n",
    "\n",
    "save_notebook(repo=\"Omdena/NorthCarolina_CameroonChapter_AngusIssues\", path=\"C:\\\\Users\\\\hamsa\\\\OneDrive\\\\Documents\\\\Project3-Angus_Issues\\\\myvenv\")"
   ]
  },
  {
   "cell_type": "code",
   "execution_count": 3,
   "id": "3ceebb36",
   "metadata": {},
   "outputs": [],
   "source": [
    "# Install the DagsHub python client\n",
    "pip install -q dagshub"
   ]
  },
  {
   "cell_type": "code",
   "execution_count": 4,
   "id": "ae629dd0",
   "metadata": {},
   "outputs": [],
   "source": [
    "# Install the DagsHub python client\n",
    "! pip install -q dagshub"
   ]
  },
  {
   "cell_type": "code",
   "execution_count": 5,
   "id": "bb7bbecd",
   "metadata": {},
   "outputs": [],
   "source": [
    "from dagshub.notebook import save_notebook\n",
    "\n",
    "save_notebook(repo=\"Omdena/NorthCarolina_CameroonChapter_AngusIssues\", path=\"C:\\\\Users\\\\hamsa\\\\OneDrive\\\\Documents\\\\Project3-Angus_Issues\\\\myvenv\")"
   ]
  },
  {
   "cell_type": "code",
   "execution_count": 6,
   "id": "857c515b",
   "metadata": {},
   "outputs": [],
   "source": [
    "! pip install nbformat"
   ]
  },
  {
   "cell_type": "code",
   "execution_count": 7,
   "id": "1b9cd44c",
   "metadata": {},
   "outputs": [],
   "source": [
    "from dagshub.notebook import save_notebook\n",
    "\n",
    "save_notebook(repo=\"Omdena/NorthCarolina_CameroonChapter_AngusIssues\", path=\"C:\\\\Users\\\\hamsa\\\\OneDrive\\\\Documents\\\\Project3-Angus_Issues\\\\myvenv\")"
   ]
  },
  {
   "cell_type": "code",
   "execution_count": 8,
   "id": "5ab422ea",
   "metadata": {},
   "outputs": [],
   "source": [
    "from dagshub.notebook import save_notebook\n",
    "\n",
    "save_notebook(repo=\"Omdena/NorthCarolina_CameroonChapter_AngusIssues\", path=\"C:\\Users\\hamsa\\OneDrive\\Documents\\Project3-Angus_Issues\\myvenv\\NorthCarolina_CameroonChapter_AngusIssues\")"
   ]
  },
  {
   "cell_type": "code",
   "execution_count": 9,
   "id": "65722ff5",
   "metadata": {},
   "outputs": [],
   "source": [
    "from dagshub.notebook import save_notebook\n",
    "\n",
    "save_notebook(repo=\"Omdena/NorthCarolina_CameroonChapter_AngusIssues\", path=\"C:\\\\Users\\\\hamsa\\\\OneDrive\\\\Documents\\\\Project3-Angus_Issues\\\\myvenv\\\\NorthCarolina_CameroonChapter_AngusIssues\")"
   ]
  },
  {
   "cell_type": "code",
   "execution_count": 10,
   "id": "a2430165",
   "metadata": {},
   "outputs": [],
   "source": [
    "from dagshub.notebook import save_notebook\n",
    "\n",
    "save_notebook(repo=\"Omdena/NorthCarolina_CameroonChapter_AngusIssues\", path=\"C:\\\\Users\\\\hamsa\\\\OneDrive\\\\Documents\\\\Project3-Angus_Issues\\\\myvenv\")"
   ]
  },
  {
   "cell_type": "code",
   "execution_count": 11,
   "id": "e5824321",
   "metadata": {},
   "outputs": [],
   "source": [
    "import os\n",
    "from dagshub.notebook import save_notebook\n",
    "\n",
    "# Define the directory path\n",
    "notebook_dir = \"C:\\\\Users\\\\hamsa\\\\OneDrive\\\\Documents\\\\Project3-Angus_Issues\\\\myvenv\"\n",
    "# Create the directory if it doesn't exist\n",
    "os.makedirs(notebook_dir, exist_ok=True)\n",
    "\n",
    "# Save the notebook to the specified directory\n",
    "save_notebook(repo=\"Omdena/NorthCarolina_CameroonChapter_AngusIssues\", path=notebook_dir)"
   ]
  }
 ],
 "metadata": {},
 "nbformat": 4,
 "nbformat_minor": 5
}
