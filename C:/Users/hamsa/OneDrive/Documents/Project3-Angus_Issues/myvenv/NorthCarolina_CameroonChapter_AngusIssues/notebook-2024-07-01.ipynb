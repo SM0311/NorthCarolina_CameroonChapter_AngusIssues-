{
 "cells": [
  {
   "cell_type": "code",
   "execution_count": 1,
   "id": "1c8b4b59",
   "metadata": {},
   "outputs": [],
   "source": [
    "from dagshub.notebook import save_notebook\n",
    "\n",
    "save_notebook(repo=\"Omdena/NorthCarolina_CameroonChapter_AngusIssues\", path=\"C:\\Users\\hamsa\\OneDrive\\Documents\\Project3-Angus_Issues\\myvenv\")"
   ]
  },
  {
   "cell_type": "code",
   "execution_count": 2,
   "id": "be18576a",
   "metadata": {},
   "outputs": [],
   "source": [
    "from dagshub.notebook import save_notebook\n",
    "\n",
    "save_notebook(repo=\"Omdena/NorthCarolina_CameroonChapter_AngusIssues\", path=\"C:\\\\Users\\\\hamsa\\\\OneDrive\\\\Documents\\\\Project3-Angus_Issues\\\\myvenv\")"
   ]
  },
  {
   "cell_type": "code",
   "execution_count": 3,
   "id": "dc55393f",
   "metadata": {},
   "outputs": [],
   "source": [
    "# Install the DagsHub python client\n",
    "pip install -q dagshub"
   ]
  },
  {
   "cell_type": "code",
   "execution_count": 4,
   "id": "c67e1059",
   "metadata": {},
   "outputs": [],
   "source": [
    "# Install the DagsHub python client\n",
    "! pip install -q dagshub"
   ]
  },
  {
   "cell_type": "code",
   "execution_count": 5,
   "id": "f0d615d9",
   "metadata": {},
   "outputs": [],
   "source": [
    "from dagshub.notebook import save_notebook\n",
    "\n",
    "save_notebook(repo=\"Omdena/NorthCarolina_CameroonChapter_AngusIssues\", path=\"C:\\\\Users\\\\hamsa\\\\OneDrive\\\\Documents\\\\Project3-Angus_Issues\\\\myvenv\")"
   ]
  },
  {
   "cell_type": "code",
   "execution_count": 6,
   "id": "2bfb4a30",
   "metadata": {},
   "outputs": [],
   "source": [
    "! pip install nbformat"
   ]
  },
  {
   "cell_type": "code",
   "execution_count": 7,
   "id": "0091520f",
   "metadata": {},
   "outputs": [],
   "source": [
    "from dagshub.notebook import save_notebook\n",
    "\n",
    "save_notebook(repo=\"Omdena/NorthCarolina_CameroonChapter_AngusIssues\", path=\"C:\\\\Users\\\\hamsa\\\\OneDrive\\\\Documents\\\\Project3-Angus_Issues\\\\myvenv\")"
   ]
  },
  {
   "cell_type": "code",
   "execution_count": 8,
   "id": "2a01862c",
   "metadata": {},
   "outputs": [],
   "source": [
    "from dagshub.notebook import save_notebook\n",
    "\n",
    "save_notebook(repo=\"Omdena/NorthCarolina_CameroonChapter_AngusIssues\", path=\"C:\\Users\\hamsa\\OneDrive\\Documents\\Project3-Angus_Issues\\myvenv\\NorthCarolina_CameroonChapter_AngusIssues\")"
   ]
  }
 ],
 "metadata": {},
 "nbformat": 4,
 "nbformat_minor": 5
}
