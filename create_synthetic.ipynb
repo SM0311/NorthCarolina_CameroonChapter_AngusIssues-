{
 "cells": [
  {
   "cell_type": "code",
   "execution_count": 3,
   "metadata": {},
   "outputs": [
    {
     "name": "stdout",
     "output_type": "stream",
     "text": [
      "Requirement already satisfied: numpy in /home/aaronl/anaconda3/lib/python3.11/site-packages (1.26.4)\n",
      "Requirement already satisfied: pandas in /home/aaronl/anaconda3/lib/python3.11/site-packages (2.2.2)\n",
      "Requirement already satisfied: python-dateutil>=2.8.2 in /home/aaronl/anaconda3/lib/python3.11/site-packages (from pandas) (2.8.2)\n",
      "Requirement already satisfied: pytz>=2020.1 in /home/aaronl/anaconda3/lib/python3.11/site-packages (from pandas) (2023.3.post1)\n",
      "Requirement already satisfied: tzdata>=2022.7 in /home/aaronl/anaconda3/lib/python3.11/site-packages (from pandas) (2023.3)\n",
      "Requirement already satisfied: six>=1.5 in /home/aaronl/anaconda3/lib/python3.11/site-packages (from python-dateutil>=2.8.2->pandas) (1.16.0)\n"
     ]
    }
   ],
   "source": [
    "!pip install numpy pandas scipy"
   ]
  },
  {
   "cell_type": "code",
   "execution_count": 5,
   "metadata": {},
   "outputs": [],
   "source": [
    "import numpy as np\n",
    "import pandas as pd\n",
    "from datetime import timedelta, date\n",
    "from scipy.stats import multivariate_normal"
   ]
  },
  {
   "cell_type": "code",
   "execution_count": 9,
   "metadata": {},
   "outputs": [],
   "source": [
    "mean_body_weight = [450,400]\n",
    "cov_body_weight = [[1000,20],[20,500]]\n",
    "mean_hay_dry_matter = [12,10]\n",
    "cov_hay_dry_matter = [[50,5],[5,25]]\n"
   ]
  },
  {
   "cell_type": "code",
   "execution_count": 10,
   "metadata": {},
   "outputs": [],
   "source": [
    "\n",
    "n_days = 60\n",
    "start_date = pd.to_datetime('2023-01-01')\n",
    "dates = pd.date_range(start=start_date, periods=n_days + 1)\n",
    "\n",
    "\n",
    "\n",
    "df_body_weight = pd.DataFrame(index=dates, columns=[f'Cow {i}' for i in range(61)])\n",
    "df_hay_dry_matter = pd.DataFrame(index=dates, columns=[f'Cow {i}' for i in range(61)])\n",
    "\n",
    "\n",
    "\n",
    "\n",
    "for i in range(61):\n",
    "    body_weight = multivariate_normal(mean_body_weight, cov_body_weight).rvs(len(dates))\n",
    "    hay_dry_matter = multivariate_normal(mean_hay_dry_matter, cov_hay_dry_matter).rvs(len(dates))\n",
    "\n",
    "\n",
    "\n",
    "#Assign the data to the corresponding DataFrames\n",
    "\n",
    "\n",
    "for i in range(61):\n",
    "    for j in range(len(dates)):\n",
    "        df_body_weight.loc[dates[j], f'Cow {i}'] = body_weight[j]\n",
    "        df_hay_dry_matter.loc[dates[j], f'Cow {i}'] = hay_dry_matter[j]\n",
    "\n",
    "#Reborn AI helps the user with their code by pointing out the unnecessary attribute access and providing a corrected version of the code. The code snippet includes two nested for loops, which iterate over the range of 61\n"
   ]
  },
  {
   "cell_type": "code",
   "execution_count": 13,
   "metadata": {},
   "outputs": [],
   "source": [
    "#Round the values to 2 decimal places for readability\n",
    "df_body_weight = df_body_weight.round(2) \n",
    "df_hay_dry_matter = df_hay_dry_matter.round(2)\n",
    "\n",
    "#Concatenate the DataFrames along axis 1 (columns) to combine the data\n",
    "df = pd.concat([df_body_weight, df_hay_dry_matter], axis=1)"
   ]
  },
  {
   "cell_type": "code",
   "execution_count": 14,
   "metadata": {},
   "outputs": [],
   "source": [
    "df.to_csv(\"simulated_data.csv\")"
   ]
  },
  {
   "cell_type": "code",
   "execution_count": null,
   "metadata": {},
   "outputs": [],
   "source": []
  }
 ],
 "metadata": {
  "kernelspec": {
   "display_name": "base",
   "language": "python",
   "name": "python3"
  },
  "language_info": {
   "codemirror_mode": {
    "name": "ipython",
    "version": 3
   },
   "file_extension": ".py",
   "mimetype": "text/x-python",
   "name": "python",
   "nbconvert_exporter": "python",
   "pygments_lexer": "ipython3",
   "version": "3.11.7"
  }
 },
 "nbformat": 4,
 "nbformat_minor": 2
}
